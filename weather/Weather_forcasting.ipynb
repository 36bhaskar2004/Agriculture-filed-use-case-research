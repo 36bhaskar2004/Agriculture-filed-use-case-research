{
 "cells": [
  {
   "cell_type": "markdown",
   "id": "bd5cffc9",
   "metadata": {},
   "source": [
    "# Part1"
   ]
  },
  {
   "cell_type": "markdown",
   "id": "39e4974c",
   "metadata": {},
   "source": [
    "## Weather forcasting using python and API"
   ]
  },
  {
   "cell_type": "markdown",
   "id": "6671af7a",
   "metadata": {},
   "source": [
    "### current weather data"
   ]
  },
  {
   "cell_type": "markdown",
   "id": "053f9a1a",
   "metadata": {},
   "source": [
    "### Required libraries"
   ]
  },
  {
   "cell_type": "code",
   "execution_count": 1,
   "id": "e4a8e7d5",
   "metadata": {},
   "outputs": [],
   "source": [
    "import requests #for extract data\n",
    "from datetime import datetime #for current date time\n",
    "import json # handle json data"
   ]
  },
  {
   "cell_type": "markdown",
   "id": "49256b2f",
   "metadata": {},
   "source": [
    "### Extract set city_name and API link for extarct co-ordinates"
   ]
  },
  {
   "cell_type": "code",
   "execution_count": 2,
   "id": "1f6fa140",
   "metadata": {},
   "outputs": [
    {
     "name": "stdout",
     "output_type": "stream",
     "text": [
      "Enter city name:Nagpur\n"
     ]
    }
   ],
   "source": [
    "user_api = input(\"Enter your API key:\") #weather API-key\n",
    "city=input(\"Enter city name:\") #City name for fetching weather info and co-ordinates\n",
    "\n",
    "#create geo-coordinate link by city name and API key and save in variable\n",
    "complete_coordinates_link=f\"http://api.openweathermap.org/geo/1.0/direct?q={city}&limit=5&appid={user_api}\""
   ]
  },
  {
   "cell_type": "markdown",
   "id": "788a4126",
   "metadata": {},
   "source": [
    "### Extarct the latitude and longitude using API"
   ]
  },
  {
   "cell_type": "code",
   "execution_count": 3,
   "id": "d8043755",
   "metadata": {},
   "outputs": [],
   "source": [
    "coordinates_link = requests.get(complete_coordinates_link) #fetch geomatric info of city by using created link\n",
    "coordinates_data = coordinates_link.json() #convert extracted data into JSON\n",
    "lat=coordinates_data[0]['lat'] #Take only latitude from JSON data\n",
    "lon=coordinates_data[0]['lon'] #Take only longitude from JSON data"
   ]
  },
  {
   "cell_type": "markdown",
   "id": "e71bcc6f",
   "metadata": {},
   "source": [
    "### Extarct the current weather information using API in json format"
   ]
  },
  {
   "cell_type": "code",
   "execution_count": 4,
   "id": "5b688339",
   "metadata": {},
   "outputs": [],
   "source": [
    "#create weather link by city lat and lon and API key and save in variable\n",
    "weather_api_link = f\"https://api.openweathermap.org/data/2.5/weather?lat={lat}&lon={lon}&appid={user_api}\"\n",
    "\n",
    "\n",
    "weather_link = requests.get(weather_api_link) #fetch weather information of city by using created link\n",
    "weather_data = weather_link.json() #convert extracted data into JSON"
   ]
  },
  {
   "cell_type": "markdown",
   "id": "e2383690",
   "metadata": {},
   "source": [
    "### Extract and Display only require current weather information from hole json data"
   ]
  },
  {
   "cell_type": "code",
   "execution_count": 5,
   "id": "c162392c",
   "metadata": {},
   "outputs": [
    {
     "name": "stdout",
     "output_type": "stream",
     "text": [
      "-------------------------------------------------------------\n",
      "Weather Stats for - NAGPUR  || 12 Sep 2025 | 02:13:54 PM \n",
      "-------------------------------------------------------------\n",
      "Current temperature is: 29.89 deg C\n",
      "Current weather description: haze\n",
      "Current Humidity: 70 %\n",
      "Current wind speed: 2.57 kmph\n"
     ]
    }
   ],
   "source": [
    "#Here we use if-else statement to check HTTP status codes returned by the API.\n",
    " \n",
    "#if the cod=404 then the city name is wrong or invalied\n",
    "if weather_data['cod'] == '404':\n",
    "    print(\"Invalid City: {}, Please check your city name\".format(weather_data['sys']['name']))\n",
    "    \n",
    "    \n",
    "#if the code not match then it extract and display required information using else statement\n",
    "else:\n",
    "    #extract teampretur and subtracts 273.15 from it for convert tempretur into degree Celsius\n",
    "    temp_city = weather_data['main']['temp'] - 273.15 #Kelvin to Celcius \n",
    "    \n",
    "     \n",
    "    weather_desc = weather_data['weather'][0]['description'] #Extract weather discription from JSON data\n",
    "    \n",
    "\n",
    "    hmdt = weather_data['main']['humidity'] #Extract humidity from JSON data\n",
    "    \n",
    "\n",
    "    wind_spd = weather_data['wind']['speed'] #Extract speed from JSON data\n",
    "    \n",
    "\n",
    "    date_time = datetime.now().strftime(\"%d %b %Y | %I:%M:%S %p \") #Fetch current date and time using date-time module\n",
    "    \n",
    "    #Display all required information\n",
    "    print(\"-------------------------------------------------------------\")\n",
    "    print(\"Weather Stats for - {}  || {}\".format((weather_data[\"name\"]).upper(), date_time))\n",
    "    print(\"-------------------------------------------------------------\")\n",
    "    print(\"Current temperature is: {:.2f} deg C\".format(temp_city))\n",
    "    print(\"Current weather description: {}\".format(weather_desc))\n",
    "    print(\"Current Humidity: {} %\".format(hmdt))\n",
    "    print(\"Current wind speed: {} kmph\".format(wind_spd))"
   ]
  },
  {
   "cell_type": "markdown",
   "id": "28ba1caf",
   "metadata": {},
   "source": [
    "# Part 2"
   ]
  },
  {
   "cell_type": "markdown",
   "id": "2d54b82d",
   "metadata": {},
   "source": [
    "## Weather forcasting using python libraries"
   ]
  },
  {
   "cell_type": "markdown",
   "id": "c2b06962",
   "metadata": {},
   "source": [
    "### Historical weather data"
   ]
  },
  {
   "cell_type": "markdown",
   "id": "9da5e485",
   "metadata": {},
   "source": [
    "### Requried libraries"
   ]
  },
  {
   "cell_type": "code",
   "execution_count": 7,
   "id": "6a56d2b2",
   "metadata": {},
   "outputs": [],
   "source": [
    "#import following libraries this all are important\n",
    "import pandas as pd #for data manipulation\n",
    "from geopy.geocoders import Nominatim #for extract co-ordinates\n",
    "from datetime import datetime #for getting start and end date and date-time operation\n",
    "from meteostat import Point, Daily #for extract historial weather data "
   ]
  },
  {
   "cell_type": "markdown",
   "id": "97173f40",
   "metadata": {},
   "source": [
    "### Extract the latitude and longiude of city by using city name"
   ]
  },
  {
   "cell_type": "code",
   "execution_count": 8,
   "id": "45de8e8b",
   "metadata": {},
   "outputs": [
    {
     "name": "stdout",
     "output_type": "stream",
     "text": [
      "Enter city name:Nagpur\n",
      "Found: Nagpur City, Nagpur Urban Taluka, Nagpur, Maharashtra, India\n",
      "Coordinates for 'Nagpur': Latitude = 21.1498134, Longitude = 79.0820556\n"
     ]
    }
   ],
   "source": [
    "#create user defined function for extract co-ordinates by city_name argument\n",
    "def get_coordinates(city_name): #function defination \n",
    "   \n",
    "    # Nominatim() == geocoding tool from the geopy library that uses OpenStreetMap data\n",
    "    # \"my_weather_app_1\" == required identifier for your application\n",
    "    geolocator = Nominatim(user_agent=\"my_weather_app_1\")\n",
    "    \n",
    "    #use try-except block to handle exception\n",
    "    try:\n",
    "        \n",
    "        # Use it to get coordinates from city name\n",
    "        location = geolocator.geocode(city_name)\n",
    "        \n",
    "        #use if-else statement for checking location found or not\n",
    "        if location:\n",
    "            \n",
    "            #if location id found then it print location data  \n",
    "            print(f\"Found: {location.address}\")\n",
    "            return (location.latitude, location.longitude) # return only latitude and longitude\n",
    "        else:\n",
    "            #else print suggestion \n",
    "            print(\"Location not found. Try being more specific (e.g., 'London, UK').\")\n",
    "            return (None, None)\n",
    "    \n",
    "    #if geolocator() function not work well then it returns error\n",
    "    except Exception as e:\n",
    "        print(f\"An error occurred: {e}\")\n",
    "        return (None, None)\n",
    "\n",
    "#Take city name as input\n",
    "city = input(\"Enter city name:\")\n",
    "\n",
    "#assing lat, lon variables for return data\n",
    "lat, lon = get_coordinates(city) #function calling\n",
    "\n",
    "#check lat, lon and print it\n",
    "if lat and lon:\n",
    "    print(f\"Coordinates for '{city}': Latitude = {lat}, Longitude = {lon}\")"
   ]
  },
  {
   "cell_type": "markdown",
   "id": "3de13c76",
   "metadata": {},
   "source": [
    "### Extract the historical weather data of required city"
   ]
  },
  {
   "cell_type": "code",
   "execution_count": 9,
   "id": "69205c03",
   "metadata": {},
   "outputs": [
    {
     "name": "stdout",
     "output_type": "stream",
     "text": [
      "Enter start date in this fromat[2025 09 31]2020 01 31\n",
      "Enter end date in this fromat[2025 09 31]2025 01 31\n",
      "Retrieved 1828 days of data\n",
      "            tavg  tmin  tmax  prcp  snow  wdir  wspd  wpgt    pres  tsun\n",
      "time                                                                    \n",
      "2020-01-31  18.3  14.0  24.0  <NA>  <NA>  <NA>   5.4  <NA>  1015.3  <NA>\n",
      "2020-02-01  18.6  13.0  23.0  <NA>  <NA>  <NA>   6.4  <NA>  1016.3  <NA>\n",
      "2020-02-02  19.4  14.0  25.0  <NA>  <NA>  <NA>   7.6  <NA>  1018.4  <NA>\n",
      "2020-02-03  18.4  16.0  22.0  <NA>  <NA>  <NA>   7.1  <NA>  1017.6  <NA>\n",
      "2020-02-04  20.8  17.0  27.0  <NA>  <NA>  <NA>   5.9  <NA>  1014.6  <NA>\n",
      "...          ...   ...   ...   ...   ...   ...   ...   ...     ...   ...\n",
      "2025-01-27  23.0  15.0  30.6   0.0  <NA>  <NA>   4.2  <NA>  1012.0  <NA>\n",
      "2025-01-28  23.2  14.6  32.0   0.0  <NA>  <NA>   3.9  <NA>  1012.2  <NA>\n",
      "2025-01-29  24.1  16.0  32.4   0.0  <NA>  <NA>   4.2  <NA>  1013.5  <NA>\n",
      "2025-01-30  25.6  18.0  33.4   0.0  <NA>  <NA>   5.6  <NA>  1011.3  <NA>\n",
      "2025-01-31  25.3  19.0  33.2   0.0  <NA>  <NA>   4.0  <NA>  1010.9  <NA>\n",
      "\n",
      "[1828 rows x 10 columns]\n"
     ]
    }
   ],
   "source": [
    "#Take start and end date from user by using input(), map(), split() and list() function\n",
    "sta=list(map(int, input(\"Enter start date in this fromat[2025 09 31]\").split()))\n",
    "end=list(map(int, input(\"Enter end date in this fromat[2025 09 31]\").split()))\n",
    "\n",
    "#set start and end date using date-time module\n",
    "start = datetime(sta[0], sta[1], sta[2])\n",
    "end = datetime(end[0], end[1], end[2])\n",
    "\n",
    "#Get location by using latitude and longitude\n",
    "location = Point(lat,lon)\n",
    "\n",
    "# Get the daily historical weather data by using location, start and end dates\n",
    "data = Daily(location, start, end) #data is in the object form\n",
    "data = data.fetch() #fetch data so it can convert data in datafram format\n",
    "\n",
    "#print the how many rows is in the data\n",
    "print(f\"Retrieved {len(data)} days of data\")\n",
    "\n",
    "#print historical weather data\n",
    "print(data)\n",
    "\n",
    "\n"
   ]
  },
  {
   "cell_type": "markdown",
   "id": "afbaaf51",
   "metadata": {},
   "source": [
    "### Save the historical data into CSV file by city name"
   ]
  },
  {
   "cell_type": "code",
   "execution_count": 10,
   "id": "2cc69c4d",
   "metadata": {},
   "outputs": [],
   "source": [
    "#convert the datafram of historical weather data into csv-file\n",
    "data.to_csv(f\"historical_weather_{city}_2020-2025.csv\")"
   ]
  },
  {
   "cell_type": "markdown",
   "id": "977a8316",
   "metadata": {},
   "source": [
    "### Measure the next 12 months from end date"
   ]
  },
  {
   "cell_type": "code",
   "execution_count": 11,
   "id": "64c340e4",
   "metadata": {},
   "outputs": [
    {
     "name": "stdout",
     "output_type": "stream",
     "text": [
      "[2, 3, 4, 5, 6, 7, 8, 9, 10, 11, 12, 13]\n",
      "[2, 3, 4, 5, 6, 7, 8, 9, 10, 11, 12, 13, 1]\n",
      "[2, 3, 4, 5, 6, 7, 8, 9, 10, 11, 12, 1]\n"
     ]
    }
   ],
   "source": [
    "#create empty list for saving number of next months\n",
    "l1=[]\n",
    "\n",
    "#use for loop for calculate the next 12 month numbers\n",
    "for i in range(1 , 13):#set range 1 to 13 becuse we need 12 numbers from 1 to calculate next 12 months\n",
    "    mon=end.month + i #Take end date month for calculating next months by adding 12 numbers\n",
    "    l1.append(mon)  #append the month number in list  \n",
    "print(l1) #print the current list \n",
    "\n",
    "#use for loop for checking months number is greter than 12 \n",
    "for i in l1: # for loop for iterate list variables\n",
    "    if i > 12: #if condition to check month number is greater than 12\n",
    "        m = i- 12 # if month number is greater than 12 then substract 12 from it\n",
    "        l1.append(m) # Append new month number to the list\n",
    "print(l1)        #print current list\n",
    "\n",
    "#inline function filter() with lambda is used for filter out list has month number only between 1 to 12\n",
    "l1 = list(filter(lambda x: x <= 12, l1))\n",
    "\n",
    "#print current list\n",
    "print(l1)\n"
   ]
  },
  {
   "cell_type": "markdown",
   "id": "72aab410",
   "metadata": {},
   "source": [
    "### Predict the next 12 month average tempreture"
   ]
  },
  {
   "cell_type": "code",
   "execution_count": 12,
   "id": "cb20d42e",
   "metadata": {},
   "outputs": [],
   "source": [
    "#Take only time column from data datafram by using \n",
    "#pd standerd variable of pandas\n",
    "#to_datetime used to convert time column into date-time formate \n",
    "data['time'] = pd.to_datetime(data.index) #extract date-time and add into datafram(name=data)\n",
    "\n",
    "#extract only month form date and add into datafram(name=data)\n",
    "data['month'] = data['time'].dt.month \n",
    "\n",
    "#extract the end date year using end date and year keyword\n",
    "y=end.year\n",
    "\n",
    "#check the month number in dataframe with month number in list filter only matched data\n",
    "filtered_data = data[data['month'].isin(l1)]  \n",
    "\n",
    "#calculate the average teampretur of that filtered month\n",
    "monthly_avg = filtered_data.groupby('month')['tavg'].mean()\n"
   ]
  },
  {
   "cell_type": "markdown",
   "id": "4bb69e96",
   "metadata": {},
   "source": [
    "### Map and print the predicted data with month and year"
   ]
  },
  {
   "cell_type": "code",
   "execution_count": 13,
   "id": "d2664462",
   "metadata": {},
   "outputs": [
    {
     "name": "stdout",
     "output_type": "stream",
     "text": [
      "Month ('February', 2025) Average Teampeture: 23.073943661971832\n",
      "Month ('March', 2025) Average Teampeture: 27.900645161290324\n",
      "Month ('April', 2025) Average Teampeture: 31.502666666666663\n",
      "Month ('May', 2025) Average Teampeture: 33.41096774193548\n",
      "Month ('June', 2025) Average Teampeture: 30.755999999999997\n",
      "Month ('July', 2025) Average Teampeture: 27.459354838709675\n",
      "Month ('August', 2025) Average Teampeture: 27.201290322580643\n",
      "Month ('September', 2025) Average Teampeture: 27.240666666666666\n",
      "Month ('October', 2025) Average Teampeture: 26.664516129032258\n",
      "Month ('November', 2025) Average Teampeture: 23.0\n",
      "Month ('December', 2025) Average Teampeture: 21.13483870967742\n",
      "Month ('January', 2026) Average Teampeture: 21.103846153846153\n"
     ]
    }
   ],
   "source": [
    "#Create list of month name for display output\n",
    "months = ['January', 'February', 'March', 'April', 'May', 'June', \n",
    "          'July', 'August', 'September', 'October', 'November', 'December']\n",
    "\n",
    "#use for loop to map data with month number and month name and year and print next 12 month data\n",
    "for i in l1:    \n",
    "    print(f\"Month {months[i-1], y} Average Teampeture: {monthly_avg.get(i, 0)}\")\n",
    "    if i == 12: #check month number for change year number to next year\n",
    "        y=y+1"
   ]
  },
  {
   "cell_type": "markdown",
   "id": "fdba7b7e",
   "metadata": {},
   "source": [
    "### Predict the next 12 month average precipitation"
   ]
  },
  {
   "cell_type": "code",
   "execution_count": 14,
   "id": "c6df39bd",
   "metadata": {},
   "outputs": [],
   "source": [
    "#Take only time column from data datafram by using \n",
    "#pd standerd variable of pandas\n",
    "#to_datetime used to convert time column into date-time formate \n",
    "data['time'] = pd.to_datetime(data.index)#extract date-time and add into datafram(name=data)\n",
    "\n",
    "#extract only month form date and add into datafram(name=data)\n",
    "data['month'] = data['time'].dt.month\n",
    "\n",
    "#extract the end date year using end date and year keyword\n",
    "y=end.year\n",
    "\n",
    "#check the month number in dataframe with month number in list filter only matched data\n",
    "filtered_data = data[data['month'].isin(l1)]\n",
    "\n",
    "#calculate the average of precipitation of that filtered month\n",
    "monthly_avg = filtered_data.groupby('month')['pres'].mean()\n"
   ]
  },
  {
   "cell_type": "markdown",
   "id": "b5e00adc",
   "metadata": {},
   "source": [
    "### Map and print the predicted data with month and year"
   ]
  },
  {
   "cell_type": "code",
   "execution_count": 15,
   "id": "18733404",
   "metadata": {},
   "outputs": [
    {
     "name": "stdout",
     "output_type": "stream",
     "text": [
      "Month ('February', 2025) Average precipitation: 1015.0577464788734\n",
      "Month ('March', 2025) Average precipitation: 1011.865806451613\n",
      "Month ('April', 2025) Average precipitation: 1009.1566666666666\n",
      "Month ('May', 2025) Average precipitation: 1005.3251612903225\n",
      "Month ('June', 2025) Average precipitation: 1003.5393333333333\n",
      "Month ('July', 2025) Average precipitation: 1002.6335483870969\n",
      "Month ('August', 2025) Average precipitation: 1004.6412903225806\n",
      "Month ('September', 2025) Average precipitation: 1005.6853333333332\n",
      "Month ('October', 2025) Average precipitation: 1010.8845161290322\n",
      "Month ('November', 2025) Average precipitation: 1014.8313333333334\n",
      "Month ('December', 2025) Average precipitation: 1015.765806451613\n",
      "Month ('January', 2026) Average precipitation: 1015.4762820512819\n"
     ]
    }
   ],
   "source": [
    "#Create list of month name for display output\n",
    "months = ['January', 'February', 'March', 'April', 'May', 'June', \n",
    "          'July', 'August', 'September', 'October', 'November', 'December']\n",
    "\n",
    "#use for loop to map data with month number and month name and year and print next 12 month data\n",
    "for i in l1:    \n",
    "    print(f\"Month {months[i-1], y} Average precipitation: {monthly_avg.get(i, 0)}\")\n",
    "    if i == 12: #check month number for change year number to next year\n",
    "        y=y+1\n"
   ]
  },
  {
   "cell_type": "code",
   "execution_count": null,
   "id": "8aca4bb3",
   "metadata": {},
   "outputs": [],
   "source": []
  },
  {
   "cell_type": "code",
   "execution_count": null,
   "id": "640272e6",
   "metadata": {},
   "outputs": [],
   "source": []
  },
  {
   "cell_type": "code",
   "execution_count": null,
   "id": "cba3237e",
   "metadata": {},
   "outputs": [],
   "source": []
  },
  {
   "cell_type": "code",
   "execution_count": null,
   "id": "e875664f",
   "metadata": {},
   "outputs": [],
   "source": []
  }
 ],
 "metadata": {
  "kernelspec": {
   "display_name": "Python 3 (ipykernel)",
   "language": "python",
   "name": "python3"
  },
  "language_info": {
   "codemirror_mode": {
    "name": "ipython",
    "version": 3
   },
   "file_extension": ".py",
   "mimetype": "text/x-python",
   "name": "python",
   "nbconvert_exporter": "python",
   "pygments_lexer": "ipython3",
   "version": "3.9.7"
  }
 },
 "nbformat": 4,
 "nbformat_minor": 5
}
